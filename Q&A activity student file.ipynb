{
 "cells": [
  {
   "cell_type": "markdown",
   "metadata": {},
   "source": [
    "## 1. Complete the following code to find the area of an equilateral triangle. Output should be as displayed"
   ]
  },
  {
   "cell_type": "code",
   "execution_count": 2,
   "metadata": {},
   "outputs": [
    {
     "name": "stdout",
     "output_type": "stream",
     "text": [
      "Enter the side of the equilateral triangle: 7\n",
      "area= 21.217622392718745\n"
     ]
    }
   ],
   "source": [
    "import math\n",
    "side = float(input(\"Enter the side of the equilateral triangle: \"))\n",
    "area = ((math.sqrt(3))/4)*pow(side,2)\n",
    "print(\"area=\",area)\n"
   ]
  },
  {
   "cell_type": "markdown",
   "metadata": {},
   "source": [
    "## 2. Write a program to count the number of each characters in a string"
   ]
  },
  {
   "cell_type": "code",
   "execution_count": 3,
   "metadata": {},
   "outputs": [
    {
     "name": "stdout",
     "output_type": "stream",
     "text": [
      "enter the stringhello abb hello cdab\n",
      "hello abb hello cdab\n",
      "h = 2\n",
      "e = 2\n",
      "l = 4\n",
      "o = 2\n",
      "  = 3\n",
      "a = 2\n",
      "b = 3\n",
      "c = 1\n",
      "d = 1\n"
     ]
    }
   ],
   "source": [
    "list1=input('enter the string')\n",
    "list2=[]\n",
    "r=len(list1)\n",
    "print(list1)\n",
    "for i in range(0,r):\n",
    "    j=list1.count(list1[i])  \n",
    "    if not list1[i] in list2:\n",
    "            list2.append(list1[i])\n",
    "            print(list1[i],'=',j)  "
   ]
  },
  {
   "cell_type": "markdown",
   "metadata": {},
   "source": [
    "## 3. Write a program to find the area and perimeter of a rectangle using functions"
   ]
  },
  {
   "cell_type": "code",
   "execution_count": 12,
   "metadata": {},
   "outputs": [
    {
     "name": "stdout",
     "output_type": "stream",
     "text": [
      "enter the radius4\n",
      "perimeter= 25.12\n",
      "area= 50.24\n"
     ]
    }
   ],
   "source": [
    "r=float(input('enter the radius'))\n",
    "def perimeter():\n",
    "    p=float(2*3.14*r)\n",
    "    print('perimeter=',p)\n",
    "def area():\n",
    "    a=float(3.14*r*r)\n",
    "    print('area=',a)\n",
    "perimeter()\n",
    "area()"
   ]
  },
  {
   "cell_type": "markdown",
   "metadata": {},
   "source": [
    "## 4. Write a program to print the fibonacci series till a specified number"
   ]
  },
  {
   "cell_type": "code",
   "execution_count": 5,
   "metadata": {},
   "outputs": [
    {
     "name": "stdout",
     "output_type": "stream",
     "text": [
      "enter the limit: 8\n",
      "[0, 1, 1, 2, 3, 5, 8, 13]\n"
     ]
    }
   ],
   "source": [
    "a=[]\n",
    "n=int(input('enter the limit: '))\n",
    "sum=0\n",
    "dup=1\n",
    "if n==0:\n",
    "    print(n)\n",
    "elif n==1:\n",
    "    print(sum,n)\n",
    "else:\n",
    "    a.append(sum)\n",
    "    a.append(dup)\n",
    "    for i in range(1,n-1):\n",
    "        sum=a[i]+a[i-1]\n",
    "        a.append(sum)\n",
    "print(a)\n",
    "        "
   ]
  },
  {
   "cell_type": "markdown",
   "metadata": {},
   "source": [
    "## 5. Complete the following code to find the minimum of 3 number using conditional statements. Output should be as displayed"
   ]
  },
  {
   "cell_type": "code",
   "execution_count": 6,
   "metadata": {},
   "outputs": [
    {
     "name": "stdout",
     "output_type": "stream",
     "text": [
      "Enter three numbers followed by  : 8 -10 2\n",
      "8 -10 2\n",
      "First number : 8\n",
      "Second number : -10\n",
      "Third number : 2\n",
      "-10  is smallest\n"
     ]
    }
   ],
   "source": [
    "a,b,c =input(\"Enter three numbers followed by  : \").split()\n",
    "print(a,b,c)\n",
    "print(\"First number :\",a)\n",
    "print(\"Second number :\",b)\n",
    "print(\"Third number :\",c)\n",
    "if a<b:\n",
    "    small=a\n",
    "else:\n",
    "    small=b\n",
    "if c<small:\n",
    "    small=c\n",
    "if a==b==c:\n",
    "    print(\"Entered numbers are equal!!!\")\n",
    "print(small,\" is smallest\")"
   ]
  },
  {
   "cell_type": "markdown",
   "metadata": {},
   "source": [
    "## 6. Write a program to print star pyramind. The number of rows should be taken as input from the user"
   ]
  },
  {
   "cell_type": "code",
   "execution_count": 7,
   "metadata": {},
   "outputs": [
    {
     "name": "stdout",
     "output_type": "stream",
     "text": [
      "enter the number10\n",
      "                  *   \n",
      "\n",
      "                *   *   \n",
      "\n",
      "              *   *   *   \n",
      "\n",
      "            *   *   *   *   \n",
      "\n",
      "          *   *   *   *   *   \n",
      "\n",
      "        *   *   *   *   *   *   \n",
      "\n",
      "      *   *   *   *   *   *   *   \n",
      "\n",
      "    *   *   *   *   *   *   *   *   \n",
      "\n",
      "  *   *   *   *   *   *   *   *   *   \n",
      "\n",
      "*   *   *   *   *   *   *   *   *   *   \n",
      "\n"
     ]
    }
   ],
   "source": [
    "n=int(input('enter the number'))\n",
    "m=n-1\n",
    "for i in range(0,n):\n",
    "    for j in range(0,m):\n",
    "        print(' ',end=' ')\n",
    "    for k in range(0,n):\n",
    "            if k<=i:\n",
    "                print('*',' ',end=' ')\n",
    "    print('\\n')\n",
    "    m=m-1    "
   ]
  },
  {
   "cell_type": "markdown",
   "metadata": {},
   "source": [
    "## 7. Complete the following code to convert hour into seconds. Output should be as displayed"
   ]
  },
  {
   "cell_type": "code",
   "execution_count": 9,
   "metadata": {},
   "outputs": [
    {
     "name": "stdout",
     "output_type": "stream",
     "text": [
      "enter time in hours24.75\n",
      "24.75  Hour is equal to 89100.0  Seconds\n"
     ]
    }
   ],
   "source": [
    "def to_seconds():\n",
    "    t=float(time_in_hours*60*60)\n",
    "    return t\n",
    "time_in_hours = float(input('enter time in hours'))\n",
    "print(time_in_hours ,\" Hour is equal to\" ,to_seconds() ,\" Seconds\")"
   ]
  },
  {
   "cell_type": "markdown",
   "metadata": {},
   "source": [
    "# 8 . Complete the following code to print the multiplication table. Output should be as displayed"
   ]
  },
  {
   "cell_type": "code",
   "execution_count": 10,
   "metadata": {},
   "outputs": [
    {
     "name": "stdout",
     "output_type": "stream",
     "text": [
      "Enter a number to find the multiplication table:15\n",
      "15 * 1 = 15\n",
      "15 * 2 = 30\n",
      "15 * 3 = 45\n",
      "15 * 4 = 60\n",
      "15 * 5 = 75\n",
      "15 * 6 = 90\n",
      "15 * 7 = 105\n",
      "15 * 8 = 120\n",
      "15 * 9 = 135\n",
      "15 * 10 = 150\n"
     ]
    }
   ],
   "source": [
    "n=int(input('Enter a number to find the multiplication table:'))\n",
    "for i in range(1,11):\n",
    "    p=int(n*i)\n",
    "    print(n,'*',i,'=',p)\n"
   ]
  },
  {
   "cell_type": "markdown",
   "metadata": {},
   "source": [
    "## 9. Write a program to take your 5 favorite food as list and print each as 'I like Biriyani'"
   ]
  },
  {
   "cell_type": "code",
   "execution_count": 11,
   "metadata": {},
   "outputs": [
    {
     "name": "stdout",
     "output_type": "stream",
     "text": [
      "enter 5 foods\n",
      "chocolate\n",
      "pizza\n",
      "apple\n",
      "strawberry\n",
      "noodles\n",
      "I like chocolate\n",
      "I like pizza\n",
      "I like apple\n",
      "I like strawberry\n",
      "I like noodles\n"
     ]
    }
   ],
   "source": [
    "list1=[]\n",
    "print('enter 5 foods')\n",
    "for i in range(0,5):\n",
    "    list1.append(input())\n",
    "for i in range(0,5):\n",
    "    print('I like',list1[i])"
   ]
  },
  {
   "cell_type": "code",
   "execution_count": null,
   "metadata": {},
   "outputs": [],
   "source": []
  }
 ],
 "metadata": {
  "kernelspec": {
   "display_name": "Python 3 (ipykernel)",
   "language": "python",
   "name": "python3"
  },
  "language_info": {
   "codemirror_mode": {
    "name": "ipython",
    "version": 3
   },
   "file_extension": ".py",
   "mimetype": "text/x-python",
   "name": "python",
   "nbconvert_exporter": "python",
   "pygments_lexer": "ipython3",
   "version": "3.9.7"
  }
 },
 "nbformat": 4,
 "nbformat_minor": 4
}
